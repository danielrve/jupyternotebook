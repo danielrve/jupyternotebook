{
  "nbformat": 4,
  "nbformat_minor": 0,
  "metadata": {
    "colab": {
      "name": "WebAssembly.ipynb",
      "provenance": [],
      "authorship_tag": "ABX9TyPLvtqVSqm97pgKzoTxmVCh",
      "include_colab_link": true
    },
    "kernelspec": {
      "name": "python3",
      "display_name": "Python 3"
    },
    "language_info": {
      "name": "python"
    }
  },
  "cells": [
    {
      "cell_type": "markdown",
      "metadata": {
        "id": "view-in-github",
        "colab_type": "text"
      },
      "source": [
        "<a href=\"https://colab.research.google.com/github/danielrve/jupyternotebook/blob/main/WebAssembly.ipynb\" target=\"_parent\"><img src=\"https://colab.research.google.com/assets/colab-badge.svg\" alt=\"Open In Colab\"/></a>"
      ]
    },
    {
      "cell_type": "markdown",
      "source": [
        "\n",
        "<img src = https://cdn.thenewstack.io/media/2021/07/bde17530-wasm.png width = \"500\" height = \"300\" >\n",
        "\n",
        "# LAB 1: Compiling C/C++ to WebAssembly\n"
      ],
      "metadata": {
        "id": "QXBLNspCVs3c"
      }
    },
    {
      "cell_type": "code",
      "source": [
        "from google.colab import drive\n",
        "drive.mount('/content/drive')"
      ],
      "metadata": {
        "colab": {
          "base_uri": "https://localhost:8080/"
        },
        "id": "kjZiugwHrh6p",
        "outputId": "3c195f8a-30f1-4b32-a705-0de483dda140"
      },
      "execution_count": 41,
      "outputs": [
        {
          "output_type": "stream",
          "name": "stdout",
          "text": [
            "Mounted at /content/drive\n"
          ]
        }
      ]
    },
    {
      "cell_type": "markdown",
      "source": [
        "```\n",
        "1. # Get the emsdk repo\n",
        "```"
      ],
      "metadata": {
        "id": "zoM_0SCPUfke"
      }
    },
    {
      "cell_type": "code",
      "execution_count": 1,
      "metadata": {
        "colab": {
          "base_uri": "https://localhost:8080/"
        },
        "id": "dM2rN2Y4SDkf",
        "outputId": "542cfc85-c315-40fd-ab2f-8ca73f3babc2"
      },
      "outputs": [
        {
          "output_type": "stream",
          "name": "stdout",
          "text": [
            "Cloning into 'emsdk'...\n",
            "remote: Enumerating objects: 3360, done.\u001b[K\n",
            "remote: Counting objects: 100% (672/672), done.\u001b[K\n",
            "remote: Compressing objects: 100% (47/47), done.\u001b[K\n",
            "remote: Total 3360 (delta 643), reused 632 (delta 624), pack-reused 2688\u001b[K\n",
            "Receiving objects: 100% (3360/3360), 1.92 MiB | 22.62 MiB/s, done.\n",
            "Resolving deltas: 100% (2206/2206), done.\n"
          ]
        }
      ],
      "source": [
        "!git clone https://github.com/emscripten-core/emsdk.git\n"
      ]
    },
    {
      "cell_type": "markdown",
      "source": [
        "```\n",
        "2. # Enter that directory\n",
        "```"
      ],
      "metadata": {
        "id": "pwQYdimnUl_7"
      }
    },
    {
      "cell_type": "code",
      "source": [
        "%cd emsdk\n"
      ],
      "metadata": {
        "colab": {
          "base_uri": "https://localhost:8080/"
        },
        "id": "q-y-T-kiT76F",
        "outputId": "b2d52d55-dbaa-449d-82d1-81497242d149"
      },
      "execution_count": 2,
      "outputs": [
        {
          "output_type": "stream",
          "name": "stdout",
          "text": [
            "/content/emsdk\n"
          ]
        }
      ]
    },
    {
      "cell_type": "markdown",
      "source": [
        "\n",
        "\n",
        "```\n",
        "3. # Download and install the latest SDK tools.\n",
        "```\n",
        "\n"
      ],
      "metadata": {
        "id": "xcZcPJXoVODQ"
      }
    },
    {
      "cell_type": "code",
      "source": [
        "!./emsdk install latest"
      ],
      "metadata": {
        "colab": {
          "base_uri": "https://localhost:8080/"
        },
        "id": "7EeD9dpRUG6O",
        "outputId": "91c2dcea-2d88-4a9c-bf0f-6d2582397303"
      },
      "execution_count": 3,
      "outputs": [
        {
          "output_type": "stream",
          "name": "stdout",
          "text": [
            "Resolving SDK alias 'latest' to '3.1.18'\n",
            "Resolving SDK version '3.1.18' to 'sdk-releases-upstream-49d45744895c7d7e28acd94a385d7ee361653b4a-64bit'\n",
            "Installing SDK 'sdk-releases-upstream-49d45744895c7d7e28acd94a385d7ee361653b4a-64bit'..\n",
            "Installing tool 'node-14.18.2-64bit'..\n",
            "Downloading: /content/emsdk/zips/node-v14.18.2-linux-x64.tar.xz from https://storage.googleapis.com/webassembly/emscripten-releases-builds/deps/node-v14.18.2-linux-x64.tar.xz, 21848416 Bytes\n",
            "Unpacking '/content/emsdk/zips/node-v14.18.2-linux-x64.tar.xz' to '/content/emsdk/node/14.18.2_64bit'\n",
            "Done installing tool 'node-14.18.2-64bit'.\n",
            "Installing tool 'releases-upstream-49d45744895c7d7e28acd94a385d7ee361653b4a-64bit'..\n",
            "Downloading: /content/emsdk/zips/49d45744895c7d7e28acd94a385d7ee361653b4a-wasm-binaries.tbz2 from https://storage.googleapis.com/webassembly/emscripten-releases-builds/linux/49d45744895c7d7e28acd94a385d7ee361653b4a/wasm-binaries.tbz2, 353796961 Bytes\n",
            "Unpacking '/content/emsdk/zips/49d45744895c7d7e28acd94a385d7ee361653b4a-wasm-binaries.tbz2' to '/content/emsdk/upstream'\n",
            "Done installing tool 'releases-upstream-49d45744895c7d7e28acd94a385d7ee361653b4a-64bit'.\n",
            "Done installing SDK 'sdk-releases-upstream-49d45744895c7d7e28acd94a385d7ee361653b4a-64bit'.\n"
          ]
        }
      ]
    },
    {
      "cell_type": "markdown",
      "source": [
        "\n",
        "\n",
        "```\n",
        "4. # Make the \"latest\" SDK \"active\" for the current user. (writes .emscripten file)\n",
        "```\n",
        "\n"
      ],
      "metadata": {
        "id": "DlMawRIzVV5C"
      }
    },
    {
      "cell_type": "code",
      "source": [
        "!./emsdk activate latest"
      ],
      "metadata": {
        "colab": {
          "base_uri": "https://localhost:8080/"
        },
        "id": "xr24UeeZUcc1",
        "outputId": "28425782-24d0-420d-8450-d02ec803e91e"
      },
      "execution_count": 4,
      "outputs": [
        {
          "output_type": "stream",
          "name": "stdout",
          "text": [
            "Resolving SDK alias 'latest' to '3.1.18'\n",
            "Resolving SDK version '3.1.18' to 'sdk-releases-upstream-49d45744895c7d7e28acd94a385d7ee361653b4a-64bit'\n",
            "Setting the following tools as active:\n",
            "   node-14.18.2-64bit\n",
            "   releases-upstream-49d45744895c7d7e28acd94a385d7ee361653b4a-64bit\n",
            "\n",
            "Next steps:\n",
            "- To conveniently access emsdk tools from the command line,\n",
            "  consider adding the following directories to your PATH:\n",
            "    /content/emsdk\n",
            "    /content/emsdk/node/14.18.2_64bit/bin\n",
            "    /content/emsdk/upstream/emscripten\n",
            "- This can be done for the current shell by running:\n",
            "    source \"/content/emsdk/emsdk_env.sh\"\n",
            "- Configure emsdk in your shell startup scripts by running:\n",
            "    echo 'source \"/content/emsdk/emsdk_env.sh\"' >> $HOME/.bash_profile\n"
          ]
        }
      ]
    },
    {
      "cell_type": "markdown",
      "source": [
        "```\n",
        "5. # Activate PATH and other environment variables in the current terminal\n",
        "\n",
        "```"
      ],
      "metadata": {
        "id": "OInU6O3OVgmT"
      }
    },
    {
      "cell_type": "code",
      "source": [
        "!source ./emsdk_env.sh"
      ],
      "metadata": {
        "colab": {
          "base_uri": "https://localhost:8080/"
        },
        "id": "QBxI31xiYHAy",
        "outputId": "1f465da4-a99c-481c-8d1c-768917b70486"
      },
      "execution_count": 5,
      "outputs": [
        {
          "output_type": "stream",
          "name": "stdout",
          "text": [
            "Adding directories to PATH:\n",
            "PATH += /content/emsdk\n",
            "PATH += /content/emsdk/upstream/emscripten\n",
            "PATH += /content/emsdk/node/14.18.2_64bit/bin\n",
            "\n",
            "Setting environment variables:\n",
            "PATH = /content/emsdk:/content/emsdk/upstream/emscripten:/content/emsdk/node/14.18.2_64bit/bin:/opt/bin:/usr/local/nvidia/bin:/usr/local/cuda/bin:/usr/local/sbin:/usr/local/bin:/usr/sbin:/usr/bin:/sbin:/bin:/tools/node/bin:/tools/google-cloud-sdk/bin\n",
            "EMSDK = /content/emsdk\n",
            "EM_CONFIG = /content/emsdk/.emscripten\n",
            "EMSDK_NODE = /content/emsdk/node/14.18.2_64bit/bin/node\n"
          ]
        }
      ]
    },
    {
      "cell_type": "markdown",
      "source": [
        "```\n",
        "# Path\n",
        "```"
      ],
      "metadata": {
        "id": "Nq6UdDsUZ5dh"
      }
    },
    {
      "cell_type": "code",
      "source": [
        "%env PATH=\"/content/emsdk:/content/emsdk/upstream/emscripten:/content/emsdk/node/14.18.2_64bit/bin:/opt/bin:/usr/local/nvidia/bin:/usr/local/cuda/bin:/usr/local/sbin:/usr/local/bin:/usr/sbin:/usr/bin:/sbin:/bin:/tools/node/bin:/tools/google-cloud-sdk/bin\"\n"
      ],
      "metadata": {
        "colab": {
          "base_uri": "https://localhost:8080/"
        },
        "id": "2z9G3E3CYop_",
        "outputId": "bda1f382-5739-4981-a776-1d4767c17a86"
      },
      "execution_count": 7,
      "outputs": [
        {
          "output_type": "stream",
          "name": "stdout",
          "text": [
            "env: PATH=\"/content/emsdk:/content/emsdk/upstream/emscripten:/content/emsdk/node/14.18.2_64bit/bin:/opt/bin:/usr/local/nvidia/bin:/usr/local/cuda/bin:/usr/local/sbin:/usr/local/bin:/usr/sbin:/usr/bin:/sbin:/bin:/tools/node/bin:/tools/google-cloud-sdk/bin\"\n"
          ]
        }
      ]
    },
    {
      "cell_type": "markdown",
      "source": [
        "```\n",
        "# Check enviroment\n",
        "```"
      ],
      "metadata": {
        "id": "TmZrEUU9bNzI"
      }
    },
    {
      "cell_type": "code",
      "source": [
        "!em++"
      ],
      "metadata": {
        "colab": {
          "base_uri": "https://localhost:8080/"
        },
        "id": "Z31ZM7mKaFw0",
        "outputId": "d7cf7f00-e389-44bf-a334-d1a4e6a87b6a"
      },
      "execution_count": 8,
      "outputs": [
        {
          "output_type": "stream",
          "name": "stdout",
          "text": [
            "shared:INFO: \u001b[32m(Emscripten: Running sanity checks)\u001b[0m\n",
            "em++: \u001b[31merror: \u001b[0mno input files\n"
          ]
        }
      ]
    },
    {
      "cell_type": "code",
      "source": [
        "%cd .."
      ],
      "metadata": {
        "colab": {
          "base_uri": "https://localhost:8080/"
        },
        "id": "J5N4SHTocpbV",
        "outputId": "cbdfe035-ff21-44de-bf01-eaeaecbf0de1"
      },
      "execution_count": 9,
      "outputs": [
        {
          "output_type": "stream",
          "name": "stdout",
          "text": [
            "/content\n"
          ]
        }
      ]
    },
    {
      "cell_type": "code",
      "source": [
        "%%writefile hello.cpp\n",
        "#include<iostream>\n",
        "int main() {\n",
        "  std::cout << \"Hello Master\" << std::endl;\n",
        "  return 0;\n",
        "}"
      ],
      "metadata": {
        "colab": {
          "base_uri": "https://localhost:8080/"
        },
        "id": "j_SmaJGqc35F",
        "outputId": "75ad233d-07e8-4d29-f9b0-d8fbd3fd298e"
      },
      "execution_count": 14,
      "outputs": [
        {
          "output_type": "stream",
          "name": "stdout",
          "text": [
            "Overwriting hello.cpp\n"
          ]
        }
      ]
    },
    {
      "cell_type": "code",
      "source": [
        "!em++ hello.cpp -s WASM=1 -o hello.html"
      ],
      "metadata": {
        "id": "Zgthv7-Tc7bJ"
      },
      "execution_count": 15,
      "outputs": []
    },
    {
      "cell_type": "markdown",
      "source": [
        "#### Create HTTP Tunneling using PyNgrok"
      ],
      "metadata": {
        "id": "L545pE_Fh5Ku"
      }
    },
    {
      "cell_type": "code",
      "source": [
        "!pip install pyngrok --quiet"
      ],
      "metadata": {
        "colab": {
          "base_uri": "https://localhost:8080/"
        },
        "id": "qZ2wy3MDh4KE",
        "outputId": "ebf53b9e-e7e1-49a0-93ae-f5855156eb43"
      },
      "execution_count": 16,
      "outputs": [
        {
          "output_type": "stream",
          "name": "stdout",
          "text": [
            "\u001b[?25l\r\u001b[K     |▍                               | 10 kB 17.9 MB/s eta 0:00:01\r\u001b[K     |▉                               | 20 kB 9.5 MB/s eta 0:00:01\r\u001b[K     |█▎                              | 30 kB 12.2 MB/s eta 0:00:01\r\u001b[K     |█▊                              | 40 kB 5.2 MB/s eta 0:00:01\r\u001b[K     |██▏                             | 51 kB 4.9 MB/s eta 0:00:01\r\u001b[K     |██▋                             | 61 kB 5.8 MB/s eta 0:00:01\r\u001b[K     |███                             | 71 kB 6.1 MB/s eta 0:00:01\r\u001b[K     |███▌                            | 81 kB 5.8 MB/s eta 0:00:01\r\u001b[K     |████                            | 92 kB 6.5 MB/s eta 0:00:01\r\u001b[K     |████▍                           | 102 kB 5.4 MB/s eta 0:00:01\r\u001b[K     |████▉                           | 112 kB 5.4 MB/s eta 0:00:01\r\u001b[K     |█████▎                          | 122 kB 5.4 MB/s eta 0:00:01\r\u001b[K     |█████▊                          | 133 kB 5.4 MB/s eta 0:00:01\r\u001b[K     |██████▏                         | 143 kB 5.4 MB/s eta 0:00:01\r\u001b[K     |██████▋                         | 153 kB 5.4 MB/s eta 0:00:01\r\u001b[K     |███████                         | 163 kB 5.4 MB/s eta 0:00:01\r\u001b[K     |███████▌                        | 174 kB 5.4 MB/s eta 0:00:01\r\u001b[K     |████████                        | 184 kB 5.4 MB/s eta 0:00:01\r\u001b[K     |████████▍                       | 194 kB 5.4 MB/s eta 0:00:01\r\u001b[K     |████████▉                       | 204 kB 5.4 MB/s eta 0:00:01\r\u001b[K     |█████████▎                      | 215 kB 5.4 MB/s eta 0:00:01\r\u001b[K     |█████████▊                      | 225 kB 5.4 MB/s eta 0:00:01\r\u001b[K     |██████████▏                     | 235 kB 5.4 MB/s eta 0:00:01\r\u001b[K     |██████████▌                     | 245 kB 5.4 MB/s eta 0:00:01\r\u001b[K     |███████████                     | 256 kB 5.4 MB/s eta 0:00:01\r\u001b[K     |███████████▍                    | 266 kB 5.4 MB/s eta 0:00:01\r\u001b[K     |███████████▉                    | 276 kB 5.4 MB/s eta 0:00:01\r\u001b[K     |████████████▎                   | 286 kB 5.4 MB/s eta 0:00:01\r\u001b[K     |████████████▊                   | 296 kB 5.4 MB/s eta 0:00:01\r\u001b[K     |█████████████▏                  | 307 kB 5.4 MB/s eta 0:00:01\r\u001b[K     |█████████████▋                  | 317 kB 5.4 MB/s eta 0:00:01\r\u001b[K     |██████████████                  | 327 kB 5.4 MB/s eta 0:00:01\r\u001b[K     |██████████████▌                 | 337 kB 5.4 MB/s eta 0:00:01\r\u001b[K     |███████████████                 | 348 kB 5.4 MB/s eta 0:00:01\r\u001b[K     |███████████████▍                | 358 kB 5.4 MB/s eta 0:00:01\r\u001b[K     |███████████████▉                | 368 kB 5.4 MB/s eta 0:00:01\r\u001b[K     |████████████████▎               | 378 kB 5.4 MB/s eta 0:00:01\r\u001b[K     |████████████████▊               | 389 kB 5.4 MB/s eta 0:00:01\r\u001b[K     |█████████████████▏              | 399 kB 5.4 MB/s eta 0:00:01\r\u001b[K     |█████████████████▋              | 409 kB 5.4 MB/s eta 0:00:01\r\u001b[K     |██████████████████              | 419 kB 5.4 MB/s eta 0:00:01\r\u001b[K     |██████████████████▌             | 430 kB 5.4 MB/s eta 0:00:01\r\u001b[K     |███████████████████             | 440 kB 5.4 MB/s eta 0:00:01\r\u001b[K     |███████████████████▍            | 450 kB 5.4 MB/s eta 0:00:01\r\u001b[K     |███████████████████▉            | 460 kB 5.4 MB/s eta 0:00:01\r\u001b[K     |████████████████████▎           | 471 kB 5.4 MB/s eta 0:00:01\r\u001b[K     |████████████████████▋           | 481 kB 5.4 MB/s eta 0:00:01\r\u001b[K     |█████████████████████           | 491 kB 5.4 MB/s eta 0:00:01\r\u001b[K     |█████████████████████▌          | 501 kB 5.4 MB/s eta 0:00:01\r\u001b[K     |██████████████████████          | 512 kB 5.4 MB/s eta 0:00:01\r\u001b[K     |██████████████████████▍         | 522 kB 5.4 MB/s eta 0:00:01\r\u001b[K     |██████████████████████▉         | 532 kB 5.4 MB/s eta 0:00:01\r\u001b[K     |███████████████████████▎        | 542 kB 5.4 MB/s eta 0:00:01\r\u001b[K     |███████████████████████▊        | 552 kB 5.4 MB/s eta 0:00:01\r\u001b[K     |████████████████████████▏       | 563 kB 5.4 MB/s eta 0:00:01\r\u001b[K     |████████████████████████▋       | 573 kB 5.4 MB/s eta 0:00:01\r\u001b[K     |█████████████████████████       | 583 kB 5.4 MB/s eta 0:00:01\r\u001b[K     |█████████████████████████▌      | 593 kB 5.4 MB/s eta 0:00:01\r\u001b[K     |██████████████████████████      | 604 kB 5.4 MB/s eta 0:00:01\r\u001b[K     |██████████████████████████▍     | 614 kB 5.4 MB/s eta 0:00:01\r\u001b[K     |██████████████████████████▉     | 624 kB 5.4 MB/s eta 0:00:01\r\u001b[K     |███████████████████████████▎    | 634 kB 5.4 MB/s eta 0:00:01\r\u001b[K     |███████████████████████████▊    | 645 kB 5.4 MB/s eta 0:00:01\r\u001b[K     |████████████████████████████▏   | 655 kB 5.4 MB/s eta 0:00:01\r\u001b[K     |████████████████████████████▋   | 665 kB 5.4 MB/s eta 0:00:01\r\u001b[K     |█████████████████████████████   | 675 kB 5.4 MB/s eta 0:00:01\r\u001b[K     |█████████████████████████████▌  | 686 kB 5.4 MB/s eta 0:00:01\r\u001b[K     |██████████████████████████████  | 696 kB 5.4 MB/s eta 0:00:01\r\u001b[K     |██████████████████████████████▍ | 706 kB 5.4 MB/s eta 0:00:01\r\u001b[K     |██████████████████████████████▊ | 716 kB 5.4 MB/s eta 0:00:01\r\u001b[K     |███████████████████████████████▏| 727 kB 5.4 MB/s eta 0:00:01\r\u001b[K     |███████████████████████████████▋| 737 kB 5.4 MB/s eta 0:00:01\r\u001b[K     |████████████████████████████████| 745 kB 5.4 MB/s \n",
            "\u001b[?25h  Building wheel for pyngrok (setup.py) ... \u001b[?25l\u001b[?25hdone\n"
          ]
        }
      ]
    },
    {
      "cell_type": "code",
      "source": [
        "from pyngrok import ngrok\n",
        "\n",
        "# Terminate open tunnels if exist\n",
        "ngrok.kill()\n",
        "\n",
        "# Setting the authtoken (optional)\n",
        "# GEt your auhtoken from https://dashboard.ngrok.com/auth\n",
        "NGROK_AUTH_TOKEN = \"2DMErCnvkv8EMSHvrPr39f22esi_56jaBpZiZ3DyLA4Vya8JX\"\n",
        "ngrok.set_auth_token(NGROK_AUTH_TOKEN)"
      ],
      "metadata": {
        "id": "55AEJfQbiOcR"
      },
      "execution_count": 21,
      "outputs": []
    },
    {
      "cell_type": "code",
      "source": [
        "ngrok.connect(13000)"
      ],
      "metadata": {
        "colab": {
          "base_uri": "https://localhost:8080/"
        },
        "id": "NZXKkSVQi1Z_",
        "outputId": "6f516857-da10-4561-ae70-144dc80be5c7"
      },
      "execution_count": 22,
      "outputs": [
        {
          "output_type": "execute_result",
          "data": {
            "text/plain": [
              "<NgrokTunnel: \"http://4ec5-34-73-158-169.ngrok.io\" -> \"http://localhost:13000\">"
            ]
          },
          "metadata": {},
          "execution_count": 22
        }
      ]
    },
    {
      "cell_type": "code",
      "source": [
        "!python -m http.server 13000"
      ],
      "metadata": {
        "colab": {
          "base_uri": "https://localhost:8080/"
        },
        "id": "4kQLYQx6jGr2",
        "outputId": "67c80fa0-e83d-49c4-a402-a947af15d315"
      },
      "execution_count": 23,
      "outputs": [
        {
          "output_type": "stream",
          "name": "stdout",
          "text": [
            "Serving HTTP on 0.0.0.0 port 13000 (http://0.0.0.0:13000/) ...\n",
            "127.0.0.1 - - [14/Aug/2022 18:14:14] \"GET / HTTP/1.1\" 200 -\n",
            "127.0.0.1 - - [14/Aug/2022 18:14:14] code 404, message File not found\n",
            "127.0.0.1 - - [14/Aug/2022 18:14:14] \"GET /favicon.ico HTTP/1.1\" 404 -\n",
            "127.0.0.1 - - [14/Aug/2022 18:14:17] \"GET /hello.html HTTP/1.1\" 200 -\n",
            "127.0.0.1 - - [14/Aug/2022 18:14:18] \"GET /hello.js HTTP/1.1\" 200 -\n",
            "127.0.0.1 - - [14/Aug/2022 18:14:18] \"GET /hello.wasm HTTP/1.1\" 200 -\n",
            "\n",
            "Keyboard interrupt received, exiting.\n",
            "^C\n"
          ]
        }
      ]
    },
    {
      "cell_type": "code",
      "source": [
        "ngrok.kill()"
      ],
      "metadata": {
        "id": "ZZzlNvG2keVe"
      },
      "execution_count": 25,
      "outputs": []
    },
    {
      "cell_type": "code",
      "source": [
        "%%writefile add.h\n",
        "#pragma once\n",
        "int add(int x, int y);"
      ],
      "metadata": {
        "colab": {
          "base_uri": "https://localhost:8080/"
        },
        "id": "s67cfCE9luEj",
        "outputId": "e098628a-91c8-44ec-eed5-aaa36a8a01a5"
      },
      "execution_count": 26,
      "outputs": [
        {
          "output_type": "stream",
          "name": "stdout",
          "text": [
            "Writing add.h\n"
          ]
        }
      ]
    },
    {
      "cell_type": "code",
      "source": [
        "%%writefile add.cpp\n",
        "#include \"add.h\"\n",
        "\n",
        "int add(int x, int y)\n",
        "{\n",
        "  return x + y;\n",
        "}"
      ],
      "metadata": {
        "colab": {
          "base_uri": "https://localhost:8080/"
        },
        "id": "k9RVDkRYmJZ5",
        "outputId": "396dcfbd-4d2b-46f0-b837-bc5ff0059a49"
      },
      "execution_count": 27,
      "outputs": [
        {
          "output_type": "stream",
          "name": "stdout",
          "text": [
            "Writing add.cpp\n"
          ]
        }
      ]
    },
    {
      "cell_type": "code",
      "source": [
        "%%writefile main.cpp \n",
        "#include <iostream>\n",
        "#include \"add.h\"\n",
        "\n",
        "int main()\n",
        "{\n",
        "  std::cout << \"The sum of 27 + 69 is: \" << add(27,69) << std::endl;\n",
        "  return 0;\n",
        "}\n"
      ],
      "metadata": {
        "colab": {
          "base_uri": "https://localhost:8080/"
        },
        "id": "00p8J3GKmf8x",
        "outputId": "db686a4c-e6b3-493f-bc41-347772853f2b"
      },
      "execution_count": 32,
      "outputs": [
        {
          "output_type": "stream",
          "name": "stdout",
          "text": [
            "Overwriting main.cpp\n"
          ]
        }
      ]
    },
    {
      "cell_type": "code",
      "source": [
        "!em++ main.cpp add.cpp -s WASM=1 -o add.js"
      ],
      "metadata": {
        "id": "8Xcq9leunzhR"
      },
      "execution_count": 33,
      "outputs": []
    },
    {
      "cell_type": "code",
      "source": [
        "%%writefile index.html \n",
        "<!DOCTYPE html>\n",
        "<html>\n",
        "    <head>\n",
        "       <meta charset=\"utf-8\">\n",
        "       <meta http-equiv=\"X-UA-Compatible\" content=\"IE-edge\">\n",
        "       <title>CYBERIA Web Assembly</title>\n",
        "    </head>\n",
        "    <body>\n",
        "        <!-- include the JS glue code  -->\n",
        "        <!-- This will load the WebAssembly module and run its main.   -->\n",
        "\n",
        "        <script src=\"add.js\">\n",
        "        \n",
        "        </script>\n",
        "    </body>\n",
        "</html>"
      ],
      "metadata": {
        "colab": {
          "base_uri": "https://localhost:8080/"
        },
        "id": "PSVYdBqYoWNQ",
        "outputId": "531d58dd-109e-435b-dd6a-bfc2e28a948b"
      },
      "execution_count": 35,
      "outputs": [
        {
          "output_type": "stream",
          "name": "stdout",
          "text": [
            "Overwriting index.html\n"
          ]
        }
      ]
    },
    {
      "cell_type": "code",
      "source": [
        "ngrok.kill()\n",
        "ngrok.connect(13000)\n"
      ],
      "metadata": {
        "colab": {
          "base_uri": "https://localhost:8080/"
        },
        "id": "_YciZL3SoieA",
        "outputId": "614d40b5-d46b-4c37-c1d9-5470c17c3253"
      },
      "execution_count": 39,
      "outputs": [
        {
          "output_type": "execute_result",
          "data": {
            "text/plain": [
              "<NgrokTunnel: \"http://bd45-34-73-158-169.ngrok.io\" -> \"http://localhost:13000\">"
            ]
          },
          "metadata": {},
          "execution_count": 39
        }
      ]
    },
    {
      "cell_type": "code",
      "source": [
        "!python -m http.server 13000"
      ],
      "metadata": {
        "colab": {
          "base_uri": "https://localhost:8080/"
        },
        "id": "7Ci2I3CTptoo",
        "outputId": "0525fe81-b7fd-4ceb-e9c8-d12025780eaf"
      },
      "execution_count": 40,
      "outputs": [
        {
          "output_type": "stream",
          "name": "stdout",
          "text": [
            "Serving HTTP on 0.0.0.0 port 13000 (http://0.0.0.0:13000/) ...\n",
            "127.0.0.1 - - [14/Aug/2022 18:39:50] \"GET / HTTP/1.1\" 200 -\n",
            "127.0.0.1 - - [14/Aug/2022 18:39:51] \"GET /add.js HTTP/1.1\" 200 -\n",
            "127.0.0.1 - - [14/Aug/2022 18:39:51] \"GET /add.wasm HTTP/1.1\" 200 -\n",
            "\n",
            "Keyboard interrupt received, exiting.\n",
            "Exception ignored in: <module 'threading' from '/usr/lib/python3.7/threading.py'>\n",
            "Traceback (most recent call last):\n",
            "  File \"/usr/lib/python3.7/threading.py\", line 1274, in _shutdown\n",
            "    def _shutdown():\n",
            "KeyboardInterrupt\n"
          ]
        }
      ]
    }
  ]
}